{
  "nbformat": 4,
  "nbformat_minor": 0,
  "metadata": {
    "colab": {
      "name": "ADDA.ipynb",
      "provenance": [],
      "collapsed_sections": [],
      "mount_file_id": "https://github.com/skywalker0803r/deep-learning-ian-goodfellow/blob/master/ADDA(20201129_enhance).ipynb",
      "authorship_tag": "ABX9TyPwBS5xER8787aVY5t123PM",
      "include_colab_link": true
    },
    "kernelspec": {
      "name": "python3",
      "display_name": "Python 3"
    }
  },
  "cells": [
    {
      "cell_type": "markdown",
      "metadata": {
        "id": "view-in-github",
        "colab_type": "text"
      },
      "source": [
        "<a href=\"https://colab.research.google.com/github/skywalker0803r/autorch/blob/main/wadda_example.ipynb\" target=\"_parent\"><img src=\"https://colab.research.google.com/assets/colab-badge.svg\" alt=\"Open In Colab\"/></a>"
      ]
    },
    {
      "cell_type": "code",
      "metadata": {
        "id": "qmT3HM3KmatA",
        "outputId": "44ca4355-5ea0-4f7c-914d-33ce55a6506a",
        "colab": {
          "base_uri": "https://localhost:8080/"
        }
      },
      "source": [
        "!git clone https://github.com/skywalker0803r/autorch.git"
      ],
      "execution_count": 6,
      "outputs": [
        {
          "output_type": "stream",
          "text": [
            "fatal: destination path 'autorch' already exists and is not an empty directory.\n"
          ],
          "name": "stdout"
        }
      ]
    },
    {
      "cell_type": "code",
      "metadata": {
        "id": "ZTKRh7oHsp3X"
      },
      "source": [
        "from autorch.autorch import transferlearning\n",
        "import torch\n",
        "from torch import nn\n",
        "from torch.autograd import Function\n",
        "from torch import optim\n",
        "from torch.utils.data import TensorDataset,DataLoader\n",
        "from sklearn.preprocessing import  StandardScaler\n",
        "import matplotlib.pyplot as plt\n",
        "import numpy as np\n",
        "import pandas as pd\n",
        "import random\n",
        "import xgboost\n",
        "from sklearn.multioutput import MultiOutputRegressor\n",
        "from sklearn.utils import shuffle\n",
        "import warnings \n",
        "warnings.simplefilter('ignore')"
      ],
      "execution_count": 7,
      "outputs": []
    },
    {
      "cell_type": "markdown",
      "metadata": {
        "id": "tYwib7h5b1qx"
      },
      "source": [
        "# Load Data"
      ]
    },
    {
      "cell_type": "code",
      "metadata": {
        "id": "IPw2Zhw5rm2A"
      },
      "source": [
        "src_data = shuffle(pd.read_csv('/content/drive/MyDrive/台塑輕油案子/data/phase1/train_4565.csv',index_col=0))\n",
        "tgt_data = shuffle(pd.read_csv('/content/drive/MyDrive/台塑輕油案子/data/phase1/test_250.csv',index_col=0))\n",
        "\n",
        "# get columns_name\n",
        "x_col = ['T10','T50','T90','N+A']\n",
        "y_col = src_data.drop(x_col,axis=1).columns.tolist()\n",
        "\n",
        "# split some data for final testing\n",
        "tgt_data,final_test_data = tgt_data.iloc[:200],tgt_data.iloc[200:]"
      ],
      "execution_count": 8,
      "outputs": []
    },
    {
      "cell_type": "markdown",
      "metadata": {
        "id": "_D3obUwE9VdI"
      },
      "source": [
        "# instance WADDA model"
      ]
    },
    {
      "cell_type": "code",
      "metadata": {
        "id": "fTkwtuKf9VmF"
      },
      "source": [
        "src_x,src_y = src_data[x_col],src_data[y_col]\n",
        "tgt_x,tgt_y = tgt_data[x_col],tgt_data[y_col]\n",
        "model = transferlearning.WADDA(src_x,src_y,tgt_x,tgt_y)"
      ],
      "execution_count": 9,
      "outputs": []
    },
    {
      "cell_type": "markdown",
      "metadata": {
        "id": "ujAPCaXa8rXA"
      },
      "source": [
        "# Fit Xgboost"
      ]
    },
    {
      "cell_type": "code",
      "metadata": {
        "id": "ul3AjcBlsqnl"
      },
      "source": [
        "xgb_200 = MultiOutputRegressor(xgboost.XGBRegressor(objective='reg:squarederror')).fit(tgt_x,tgt_y)\n",
        "xgb_4765 = MultiOutputRegressor(xgboost.XGBRegressor(objective='reg:squarederror')).fit(src_x.append(tgt_x),src_y.append(tgt_y))"
      ],
      "execution_count": 10,
      "outputs": []
    },
    {
      "cell_type": "markdown",
      "metadata": {
        "id": "TZ4ZoAM-rpkt"
      },
      "source": [
        "# Fit WADDA"
      ]
    },
    {
      "cell_type": "code",
      "metadata": {
        "colab": {
          "base_uri": "https://localhost:8080/",
          "height": 1000
        },
        "id": "Rm0q1E9nHAvM",
        "outputId": "be09a90c-e146-455c-9e2f-f695df57012a"
      },
      "source": [
        "model.train()"
      ],
      "execution_count": 11,
      "outputs": [
        {
          "output_type": "stream",
          "text": [
            "\r  0%|          | 0/3000 [00:00<?, ?it/s]"
          ],
          "name": "stderr"
        },
        {
          "output_type": "stream",
          "text": [
            "start train\n"
          ],
          "name": "stdout"
        },
        {
          "output_type": "stream",
          "text": [
            "  1%|▏         | 39/3000 [00:00<08:22,  5.89it/s]"
          ],
          "name": "stderr"
        },
        {
          "output_type": "stream",
          "text": [
            "ep:0 loss:3.852004051208496\n"
          ],
          "name": "stdout"
        },
        {
          "output_type": "stream",
          "text": [
            "  5%|▌         | 159/3000 [00:00<02:50, 16.69it/s]"
          ],
          "name": "stderr"
        },
        {
          "output_type": "stream",
          "text": [
            "ep:100 loss:3.2374160289764404\n"
          ],
          "name": "stdout"
        },
        {
          "output_type": "stream",
          "text": [
            "  9%|▉         | 273/3000 [00:00<01:00, 44.91it/s]"
          ],
          "name": "stderr"
        },
        {
          "output_type": "stream",
          "text": [
            "ep:200 loss:1.220056176185608\n"
          ],
          "name": "stdout"
        },
        {
          "output_type": "stream",
          "text": [
            " 12%|█▏        | 349/3000 [00:01<00:32, 81.52it/s]"
          ],
          "name": "stderr"
        },
        {
          "output_type": "stream",
          "text": [
            "ep:300 loss:0.9345071315765381\n"
          ],
          "name": "stdout"
        },
        {
          "output_type": "stream",
          "text": [
            " 15%|█▌        | 464/3000 [00:01<00:15, 168.72it/s]"
          ],
          "name": "stderr"
        },
        {
          "output_type": "stream",
          "text": [
            "ep:400 loss:0.7948161959648132\n"
          ],
          "name": "stdout"
        },
        {
          "output_type": "stream",
          "text": [
            " 18%|█▊        | 544/3000 [00:01<00:10, 237.98it/s]"
          ],
          "name": "stderr"
        },
        {
          "output_type": "stream",
          "text": [
            "ep:500 loss:0.6071462035179138\n"
          ],
          "name": "stdout"
        },
        {
          "output_type": "stream",
          "text": [
            " 22%|██▏       | 659/3000 [00:01<00:07, 309.10it/s]"
          ],
          "name": "stderr"
        },
        {
          "output_type": "stream",
          "text": [
            "ep:600 loss:0.49471157789230347\n"
          ],
          "name": "stdout"
        },
        {
          "output_type": "stream",
          "text": [
            " 24%|██▍       | 734/3000 [00:02<00:07, 319.53it/s]"
          ],
          "name": "stderr"
        },
        {
          "output_type": "stream",
          "text": [
            "ep:700 loss:0.45441725850105286\n"
          ],
          "name": "stdout"
        },
        {
          "output_type": "stream",
          "text": [
            " 28%|██▊       | 840/3000 [00:02<00:06, 332.03it/s]"
          ],
          "name": "stderr"
        },
        {
          "output_type": "stream",
          "text": [
            "ep:800 loss:0.40917155146598816\n"
          ],
          "name": "stdout"
        },
        {
          "output_type": "stream",
          "text": [
            " 32%|███▏      | 949/3000 [00:02<00:06, 339.42it/s]"
          ],
          "name": "stderr"
        },
        {
          "output_type": "stream",
          "text": [
            "ep:900 loss:0.3363942801952362\n"
          ],
          "name": "stdout"
        },
        {
          "output_type": "stream",
          "text": [
            " 35%|███▌      | 1060/3000 [00:03<00:05, 354.82it/s]"
          ],
          "name": "stderr"
        },
        {
          "output_type": "stream",
          "text": [
            "ep:1000 loss:0.3465229272842407\n"
          ],
          "name": "stdout"
        },
        {
          "output_type": "stream",
          "text": [
            " 39%|███▉      | 1170/3000 [00:03<00:05, 358.74it/s]"
          ],
          "name": "stderr"
        },
        {
          "output_type": "stream",
          "text": [
            "ep:1100 loss:0.4411408007144928\n"
          ],
          "name": "stdout"
        },
        {
          "output_type": "stream",
          "text": [
            " 41%|████▏     | 1242/3000 [00:03<00:05, 344.36it/s]"
          ],
          "name": "stderr"
        },
        {
          "output_type": "stream",
          "text": [
            "ep:1200 loss:0.33599990606307983\n"
          ],
          "name": "stdout"
        },
        {
          "output_type": "stream",
          "text": [
            " 45%|████▌     | 1351/3000 [00:03<00:04, 351.55it/s]"
          ],
          "name": "stderr"
        },
        {
          "output_type": "stream",
          "text": [
            "ep:1300 loss:0.38366127014160156\n"
          ],
          "name": "stdout"
        },
        {
          "output_type": "stream",
          "text": [
            " 49%|████▊     | 1461/3000 [00:04<00:04, 356.71it/s]"
          ],
          "name": "stderr"
        },
        {
          "output_type": "stream",
          "text": [
            "ep:1400 loss:0.3421289920806885\n"
          ],
          "name": "stdout"
        },
        {
          "output_type": "stream",
          "text": [
            " 52%|█████▏    | 1574/3000 [00:04<00:03, 365.29it/s]"
          ],
          "name": "stderr"
        },
        {
          "output_type": "stream",
          "text": [
            "ep:1500 loss:0.24367627501487732\n"
          ],
          "name": "stdout"
        },
        {
          "output_type": "stream",
          "text": [
            " 55%|█████▍    | 1647/3000 [00:04<00:03, 351.88it/s]"
          ],
          "name": "stderr"
        },
        {
          "output_type": "stream",
          "text": [
            "ep:1600 loss:0.344691663980484\n"
          ],
          "name": "stdout"
        },
        {
          "output_type": "stream",
          "text": [
            " 59%|█████▊    | 1758/3000 [00:05<00:03, 362.40it/s]"
          ],
          "name": "stderr"
        },
        {
          "output_type": "stream",
          "text": [
            "ep:1700 loss:0.27051711082458496\n"
          ],
          "name": "stdout"
        },
        {
          "output_type": "stream",
          "text": [
            " 62%|██████▏   | 1869/3000 [00:05<00:03, 358.23it/s]"
          ],
          "name": "stderr"
        },
        {
          "output_type": "stream",
          "text": [
            "ep:1800 loss:0.28058648109436035\n"
          ],
          "name": "stdout"
        },
        {
          "output_type": "stream",
          "text": [
            " 65%|██████▍   | 1942/3000 [00:05<00:02, 360.47it/s]"
          ],
          "name": "stderr"
        },
        {
          "output_type": "stream",
          "text": [
            "ep:1900 loss:0.261726975440979\n"
          ],
          "name": "stdout"
        },
        {
          "output_type": "stream",
          "text": [
            " 68%|██████▊   | 2051/3000 [00:05<00:02, 350.96it/s]"
          ],
          "name": "stderr"
        },
        {
          "output_type": "stream",
          "text": [
            "ep:2000 loss:0.21741341054439545\n"
          ],
          "name": "stdout"
        },
        {
          "output_type": "stream",
          "text": [
            " 72%|███████▏  | 2161/3000 [00:06<00:02, 352.88it/s]"
          ],
          "name": "stderr"
        },
        {
          "output_type": "stream",
          "text": [
            "ep:2100 loss:0.2695503234863281\n"
          ],
          "name": "stdout"
        },
        {
          "output_type": "stream",
          "text": [
            " 76%|███████▌  | 2270/3000 [00:06<00:02, 357.93it/s]"
          ],
          "name": "stderr"
        },
        {
          "output_type": "stream",
          "text": [
            "ep:2200 loss:0.2565261423587799\n"
          ],
          "name": "stdout"
        },
        {
          "output_type": "stream",
          "text": [
            " 78%|███████▊  | 2344/3000 [00:06<00:01, 363.08it/s]"
          ],
          "name": "stderr"
        },
        {
          "output_type": "stream",
          "text": [
            "ep:2300 loss:0.39185377955436707\n"
          ],
          "name": "stdout"
        },
        {
          "output_type": "stream",
          "text": [
            " 82%|████████▏ | 2459/3000 [00:07<00:01, 369.46it/s]"
          ],
          "name": "stderr"
        },
        {
          "output_type": "stream",
          "text": [
            "ep:2400 loss:0.2147296667098999\n"
          ],
          "name": "stdout"
        },
        {
          "output_type": "stream",
          "text": [
            " 86%|████████▌ | 2570/3000 [00:07<00:01, 367.63it/s]"
          ],
          "name": "stderr"
        },
        {
          "output_type": "stream",
          "text": [
            "ep:2500 loss:0.22309038043022156\n"
          ],
          "name": "stdout"
        },
        {
          "output_type": "stream",
          "text": [
            " 88%|████████▊ | 2645/3000 [00:07<00:00, 365.97it/s]"
          ],
          "name": "stderr"
        },
        {
          "output_type": "stream",
          "text": [
            "ep:2600 loss:0.22761428356170654\n"
          ],
          "name": "stdout"
        },
        {
          "output_type": "stream",
          "text": [
            " 92%|█████████▏| 2759/3000 [00:07<00:00, 353.97it/s]"
          ],
          "name": "stderr"
        },
        {
          "output_type": "stream",
          "text": [
            "ep:2700 loss:0.26030659675598145\n"
          ],
          "name": "stdout"
        },
        {
          "output_type": "stream",
          "text": [
            " 96%|█████████▌| 2873/3000 [00:08<00:00, 368.36it/s]"
          ],
          "name": "stderr"
        },
        {
          "output_type": "stream",
          "text": [
            "ep:2800 loss:0.2261139154434204\n"
          ],
          "name": "stdout"
        },
        {
          "output_type": "stream",
          "text": [
            " 98%|█████████▊| 2948/3000 [00:08<00:00, 365.50it/s]"
          ],
          "name": "stderr"
        },
        {
          "output_type": "stream",
          "text": [
            "ep:2900 loss:0.2684665620326996\n"
          ],
          "name": "stdout"
        },
        {
          "output_type": "stream",
          "text": [
            "100%|██████████| 3000/3000 [00:08<00:00, 350.54it/s]\n"
          ],
          "name": "stderr"
        },
        {
          "output_type": "display_data",
          "data": {
            "image/png": "[encoded data removed]",
            "text/plain": [
              "<Figure size 432x288 with 1 Axes>"
            ]
          },
          "metadata": {
            "tags": [],
            "needs_background": "light"
          }
        },
        {
          "output_type": "stream",
          "text": [
            "  0%|          | 24/10000 [00:00<01:30, 109.66it/s]"
          ],
          "name": "stderr"
        },
        {
          "output_type": "stream",
          "text": [
            "ep:0 d_loss:0.005383852869272232 t_loss:0.01670045033097267 r_loss:2.7762205600738525\n"
          ],
          "name": "stdout"
        },
        {
          "output_type": "stream",
          "text": [
            "  1%|          | 121/10000 [00:01<01:24, 117.07it/s]"
          ],
          "name": "stderr"
        },
        {
          "output_type": "stream",
          "text": [
            "ep:100 d_loss:-0.1838778853416443 t_loss:-0.4970236122608185 r_loss:1.4083998203277588\n"
          ],
          "name": "stdout"
        },
        {
          "output_type": "stream",
          "text": [
            "  2%|▏         | 222/10000 [00:01<01:20, 121.01it/s]"
          ],
          "name": "stderr"
        },
        {
          "output_type": "stream",
          "text": [
            "ep:200 d_loss:-0.021237879991531372 t_loss:-0.42503228783607483 r_loss:1.1369853019714355\n"
          ],
          "name": "stdout"
        },
        {
          "output_type": "stream",
          "text": [
            "  3%|▎         | 313/10000 [00:02<01:19, 121.13it/s]"
          ],
          "name": "stderr"
        },
        {
          "output_type": "stream",
          "text": [
            "ep:300 d_loss:-0.05997980386018753 t_loss:-0.04537396878004074 r_loss:1.0997345447540283\n"
          ],
          "name": "stdout"
        },
        {
          "output_type": "stream",
          "text": [
            "  4%|▍         | 415/10000 [00:03<01:22, 116.19it/s]"
          ],
          "name": "stderr"
        },
        {
          "output_type": "stream",
          "text": [
            "ep:400 d_loss:-0.0657057911157608 t_loss:0.06131953001022339 r_loss:0.8444976806640625\n"
          ],
          "name": "stdout"
        },
        {
          "output_type": "stream",
          "text": [
            "  5%|▌         | 518/10000 [00:04<01:18, 120.03it/s]"
          ],
          "name": "stderr"
        },
        {
          "output_type": "stream",
          "text": [
            "ep:500 d_loss:-0.03502105176448822 t_loss:-0.06900666654109955 r_loss:0.756873607635498\n"
          ],
          "name": "stdout"
        },
        {
          "output_type": "stream",
          "text": [
            "  6%|▌         | 620/10000 [00:05<01:20, 116.98it/s]"
          ],
          "name": "stderr"
        },
        {
          "output_type": "stream",
          "text": [
            "ep:600 d_loss:-0.05226033553481102 t_loss:-0.05000293627381325 r_loss:0.845319390296936\n"
          ],
          "name": "stdout"
        },
        {
          "output_type": "stream",
          "text": [
            "  7%|▋         | 718/10000 [00:06<01:19, 116.81it/s]"
          ],
          "name": "stderr"
        },
        {
          "output_type": "stream",
          "text": [
            "ep:700 d_loss:-0.04928472638130188 t_loss:0.03994884341955185 r_loss:0.7391834855079651\n"
          ],
          "name": "stdout"
        },
        {
          "output_type": "stream",
          "text": [
            "  8%|▊         | 814/10000 [00:06<01:20, 114.41it/s]"
          ],
          "name": "stderr"
        },
        {
          "output_type": "stream",
          "text": [
            "ep:800 d_loss:-0.06046130880713463 t_loss:0.012986254878342152 r_loss:0.7337613105773926\n"
          ],
          "name": "stdout"
        },
        {
          "output_type": "stream",
          "text": [
            "  9%|▉         | 923/10000 [00:07<01:18, 115.14it/s]"
          ],
          "name": "stderr"
        },
        {
          "output_type": "stream",
          "text": [
            "ep:900 d_loss:-0.045487113296985626 t_loss:-0.06250694394111633 r_loss:0.6410034894943237\n"
          ],
          "name": "stdout"
        },
        {
          "output_type": "stream",
          "text": [
            " 10%|█         | 1019/10000 [00:08<01:18, 115.04it/s]"
          ],
          "name": "stderr"
        },
        {
          "output_type": "stream",
          "text": [
            "ep:1000 d_loss:-0.045293472707271576 t_loss:-0.012327674776315689 r_loss:0.6122285723686218\n"
          ],
          "name": "stdout"
        },
        {
          "output_type": "stream",
          "text": [
            " 11%|█         | 1117/10000 [00:09<01:16, 116.00it/s]"
          ],
          "name": "stderr"
        },
        {
          "output_type": "stream",
          "text": [
            "ep:1100 d_loss:-0.053043387830257416 t_loss:-0.001457730308175087 r_loss:0.6580896973609924\n"
          ],
          "name": "stdout"
        },
        {
          "output_type": "stream",
          "text": [
            " 12%|█▏        | 1215/10000 [00:10<01:16, 115.23it/s]"
          ],
          "name": "stderr"
        },
        {
          "output_type": "stream",
          "text": [
            "ep:1200 d_loss:-0.04727421700954437 t_loss:-0.02050432376563549 r_loss:0.5073233842849731\n"
          ],
          "name": "stdout"
        },
        {
          "output_type": "stream",
          "text": [
            " 13%|█▎        | 1312/10000 [00:11<01:15, 115.76it/s]"
          ],
          "name": "stderr"
        },
        {
          "output_type": "stream",
          "text": [
            "ep:1300 d_loss:-0.05746282637119293 t_loss:0.01959330029785633 r_loss:0.6001541018486023\n"
          ],
          "name": "stdout"
        },
        {
          "output_type": "stream",
          "text": [
            " 14%|█▍        | 1420/10000 [00:12<01:14, 115.54it/s]"
          ],
          "name": "stderr"
        },
        {
          "output_type": "stream",
          "text": [
            "ep:1400 d_loss:-0.04927081987261772 t_loss:-0.046965308487415314 r_loss:0.554914653301239\n"
          ],
          "name": "stdout"
        },
        {
          "output_type": "stream",
          "text": [
            " 15%|█▌        | 1518/10000 [00:13<01:12, 117.13it/s]"
          ],
          "name": "stderr"
        },
        {
          "output_type": "stream",
          "text": [
            "ep:1500 d_loss:-0.054405372589826584 t_loss:0.003953801468014717 r_loss:0.5944156050682068\n"
          ],
          "name": "stdout"
        },
        {
          "output_type": "stream",
          "text": [
            " 16%|█▌        | 1616/10000 [00:13<01:12, 115.97it/s]"
          ],
          "name": "stderr"
        },
        {
          "output_type": "stream",
          "text": [
            "ep:1600 d_loss:-0.0551062636077404 t_loss:-0.0031067528761923313 r_loss:0.6495724320411682\n"
          ],
          "name": "stdout"
        },
        {
          "output_type": "stream",
          "text": [
            " 17%|█▋        | 1713/10000 [00:14<01:11, 116.58it/s]"
          ],
          "name": "stderr"
        },
        {
          "output_type": "stream",
          "text": [
            "ep:1700 d_loss:-0.05678970366716385 t_loss:-0.016894303262233734 r_loss:0.5283480882644653\n"
          ],
          "name": "stdout"
        },
        {
          "output_type": "stream",
          "text": [
            " 18%|█▊        | 1822/10000 [00:15<01:15, 108.33it/s]"
          ],
          "name": "stderr"
        },
        {
          "output_type": "stream",
          "text": [
            "ep:1800 d_loss:-0.051266174763441086 t_loss:-0.012210149317979813 r_loss:0.5120110511779785\n"
          ],
          "name": "stdout"
        },
        {
          "output_type": "stream",
          "text": [
            " 19%|█▉        | 1918/10000 [00:16<01:11, 113.22it/s]"
          ],
          "name": "stderr"
        },
        {
          "output_type": "stream",
          "text": [
            "ep:1900 d_loss:-0.052673496305942535 t_loss:-0.013536229729652405 r_loss:0.5745877623558044\n"
          ],
          "name": "stdout"
        },
        {
          "output_type": "stream",
          "text": [
            " 20%|██        | 2015/10000 [00:17<01:10, 113.56it/s]"
          ],
          "name": "stderr"
        },
        {
          "output_type": "stream",
          "text": [
            "ep:2000 d_loss:-0.05340071767568588 t_loss:-0.003749222494661808 r_loss:0.5532968640327454\n"
          ],
          "name": "stdout"
        },
        {
          "output_type": "stream",
          "text": [
            " 21%|██        | 2124/10000 [00:18<01:07, 117.07it/s]"
          ],
          "name": "stderr"
        },
        {
          "output_type": "stream",
          "text": [
            "ep:2100 d_loss:-0.04801313579082489 t_loss:-0.03309175372123718 r_loss:0.5115231871604919\n"
          ],
          "name": "stdout"
        },
        {
          "output_type": "stream",
          "text": [
            " 22%|██▏       | 2221/10000 [00:19<01:07, 115.85it/s]"
          ],
          "name": "stderr"
        },
        {
          "output_type": "stream",
          "text": [
            "ep:2200 d_loss:-0.0522615946829319 t_loss:0.014833363704383373 r_loss:0.5253459215164185\n"
          ],
          "name": "stdout"
        },
        {
          "output_type": "stream",
          "text": [
            " 23%|██▎       | 2317/10000 [00:20<01:06, 115.50it/s]"
          ],
          "name": "stderr"
        },
        {
          "output_type": "stream",
          "text": [
            "ep:2300 d_loss:-0.03910825029015541 t_loss:-0.04938369616866112 r_loss:0.49354955554008484\n"
          ],
          "name": "stdout"
        },
        {
          "output_type": "stream",
          "text": [
            " 24%|██▍       | 2413/10000 [00:20<01:07, 111.65it/s]"
          ],
          "name": "stderr"
        },
        {
          "output_type": "stream",
          "text": [
            "ep:2400 d_loss:-0.05068448185920715 t_loss:-0.005203003995120525 r_loss:0.5147485136985779\n"
          ],
          "name": "stdout"
        },
        {
          "output_type": "stream",
          "text": [
            " 25%|██▌       | 2522/10000 [00:21<01:06, 111.65it/s]"
          ],
          "name": "stderr"
        },
        {
          "output_type": "stream",
          "text": [
            "ep:2500 d_loss:-0.04048356041312218 t_loss:-0.043342940509319305 r_loss:0.4808494746685028\n"
          ],
          "name": "stdout"
        },
        {
          "output_type": "stream",
          "text": [
            " 26%|██▌       | 2618/10000 [00:22<01:07, 110.01it/s]"
          ],
          "name": "stderr"
        },
        {
          "output_type": "stream",
          "text": [
            "ep:2600 d_loss:-0.05820940434932709 t_loss:0.03466734662652016 r_loss:0.4876915514469147\n"
          ],
          "name": "stdout"
        },
        {
          "output_type": "stream",
          "text": [
            " 27%|██▋       | 2715/10000 [00:23<01:03, 114.09it/s]"
          ],
          "name": "stderr"
        },
        {
          "output_type": "stream",
          "text": [
            "ep:2700 d_loss:-0.050467539578676224 t_loss:-0.022946378216147423 r_loss:0.46004971861839294\n"
          ],
          "name": "stdout"
        },
        {
          "output_type": "stream",
          "text": [
            " 28%|██▊       | 2816/10000 [00:24<00:59, 119.99it/s]"
          ],
          "name": "stderr"
        },
        {
          "output_type": "stream",
          "text": [
            "ep:2800 d_loss:-0.05228594318032265 t_loss:-0.01011511031538248 r_loss:0.4287782609462738\n"
          ],
          "name": "stdout"
        },
        {
          "output_type": "stream",
          "text": [
            " 29%|██▉       | 2915/10000 [00:25<01:01, 116.05it/s]"
          ],
          "name": "stderr"
        },
        {
          "output_type": "stream",
          "text": [
            "ep:2900 d_loss:-0.053439199924468994 t_loss:-0.011838147416710854 r_loss:0.4786953032016754\n"
          ],
          "name": "stdout"
        },
        {
          "output_type": "stream",
          "text": [
            " 30%|███       | 3025/10000 [00:26<00:59, 117.78it/s]"
          ],
          "name": "stderr"
        },
        {
          "output_type": "stream",
          "text": [
            "ep:3000 d_loss:-0.058469753712415695 t_loss:0.0032768913079053164 r_loss:0.5010596513748169\n"
          ],
          "name": "stdout"
        },
        {
          "output_type": "stream",
          "text": [
            " 31%|███       | 3121/10000 [00:27<00:59, 115.93it/s]"
          ],
          "name": "stderr"
        },
        {
          "output_type": "stream",
          "text": [
            "ep:3100 d_loss:-0.04929361492395401 t_loss:-0.01658511348068714 r_loss:0.4385191798210144\n"
          ],
          "name": "stdout"
        },
        {
          "output_type": "stream",
          "text": [
            " 32%|███▏      | 3217/10000 [00:27<00:59, 114.18it/s]"
          ],
          "name": "stderr"
        },
        {
          "output_type": "stream",
          "text": [
            "ep:3200 d_loss:-0.05345046892762184 t_loss:0.00114363431930542 r_loss:0.46324622631073\n"
          ],
          "name": "stdout"
        },
        {
          "output_type": "stream",
          "text": [
            " 33%|███▎      | 3314/10000 [00:28<01:00, 109.76it/s]"
          ],
          "name": "stderr"
        },
        {
          "output_type": "stream",
          "text": [
            "ep:3300 d_loss:-0.05075995251536369 t_loss:-0.02826489694416523 r_loss:0.46329352259635925\n"
          ],
          "name": "stdout"
        },
        {
          "output_type": "stream",
          "text": [
            " 34%|███▍      | 3422/10000 [00:29<00:58, 112.77it/s]"
          ],
          "name": "stderr"
        },
        {
          "output_type": "stream",
          "text": [
            "ep:3400 d_loss:-0.05039655417203903 t_loss:-0.008787158876657486 r_loss:0.4556431174278259\n"
          ],
          "name": "stdout"
        },
        {
          "output_type": "stream",
          "text": [
            " 35%|███▌      | 3518/10000 [00:30<00:58, 111.34it/s]"
          ],
          "name": "stderr"
        },
        {
          "output_type": "stream",
          "text": [
            "ep:3500 d_loss:-0.050650183111429214 t_loss:-0.015081067569553852 r_loss:0.39403924345970154\n"
          ],
          "name": "stdout"
        },
        {
          "output_type": "stream",
          "text": [
            " 36%|███▌      | 3614/10000 [00:31<00:55, 114.97it/s]"
          ],
          "name": "stderr"
        },
        {
          "output_type": "stream",
          "text": [
            "ep:3600 d_loss:-0.05947919189929962 t_loss:0.014707350172102451 r_loss:0.4227754771709442\n"
          ],
          "name": "stdout"
        },
        {
          "output_type": "stream",
          "text": [
            " 37%|███▋      | 3712/10000 [00:32<00:55, 113.23it/s]"
          ],
          "name": "stderr"
        },
        {
          "output_type": "stream",
          "text": [
            "ep:3700 d_loss:-0.051989033818244934 t_loss:-0.0010432763956487179 r_loss:0.4476875364780426\n"
          ],
          "name": "stdout"
        },
        {
          "output_type": "stream",
          "text": [
            " 38%|███▊      | 3821/10000 [00:33<00:53, 115.89it/s]"
          ],
          "name": "stderr"
        },
        {
          "output_type": "stream",
          "text": [
            "ep:3800 d_loss:-0.05467870458960533 t_loss:-0.00897199660539627 r_loss:0.3983176648616791\n"
          ],
          "name": "stdout"
        },
        {
          "output_type": "stream",
          "text": [
            " 39%|███▉      | 3917/10000 [00:34<00:52, 115.03it/s]"
          ],
          "name": "stderr"
        },
        {
          "output_type": "stream",
          "text": [
            "ep:3900 d_loss:-0.05486394092440605 t_loss:0.0010161675745621324 r_loss:0.41356998682022095\n"
          ],
          "name": "stdout"
        },
        {
          "output_type": "stream",
          "text": [
            " 40%|████      | 4013/10000 [00:34<00:51, 115.20it/s]"
          ],
          "name": "stderr"
        },
        {
          "output_type": "stream",
          "text": [
            "ep:4000 d_loss:-0.05656670406460762 t_loss:-0.005484829191118479 r_loss:0.4512207508087158\n"
          ],
          "name": "stdout"
        },
        {
          "output_type": "stream",
          "text": [
            " 41%|████      | 4122/10000 [00:35<00:51, 113.89it/s]"
          ],
          "name": "stderr"
        },
        {
          "output_type": "stream",
          "text": [
            "ep:4100 d_loss:-0.051267825067043304 t_loss:-0.010886253789067268 r_loss:0.35229939222335815\n"
          ],
          "name": "stdout"
        },
        {
          "output_type": "stream",
          "text": [
            " 42%|████▏     | 4218/10000 [00:36<00:50, 113.80it/s]"
          ],
          "name": "stderr"
        },
        {
          "output_type": "stream",
          "text": [
            "ep:4200 d_loss:-0.05056554079055786 t_loss:-0.011700672097504139 r_loss:0.44954589009284973\n"
          ],
          "name": "stdout"
        },
        {
          "output_type": "stream",
          "text": [
            " 43%|████▎     | 4314/10000 [00:37<00:49, 115.10it/s]"
          ],
          "name": "stderr"
        },
        {
          "output_type": "stream",
          "text": [
            "ep:4300 d_loss:-0.0546320378780365 t_loss:-0.001182088046334684 r_loss:0.4102945029735565\n"
          ],
          "name": "stdout"
        },
        {
          "output_type": "stream",
          "text": [
            " 44%|████▍     | 4423/10000 [00:38<00:48, 115.57it/s]"
          ],
          "name": "stderr"
        },
        {
          "output_type": "stream",
          "text": [
            "ep:4400 d_loss:-0.05239215865731239 t_loss:-0.0104657718911767 r_loss:0.3940838873386383\n"
          ],
          "name": "stdout"
        },
        {
          "output_type": "stream",
          "text": [
            " 45%|████▌     | 4521/10000 [00:39<00:46, 116.79it/s]"
          ],
          "name": "stderr"
        },
        {
          "output_type": "stream",
          "text": [
            "ep:4500 d_loss:-0.04924597963690758 t_loss:-0.032544903457164764 r_loss:0.3985154926776886\n"
          ],
          "name": "stdout"
        },
        {
          "output_type": "stream",
          "text": [
            " 46%|████▌     | 4617/10000 [00:40<00:48, 111.69it/s]"
          ],
          "name": "stderr"
        },
        {
          "output_type": "stream",
          "text": [
            "ep:4600 d_loss:-0.05559190735220909 t_loss:0.0049238046631217 r_loss:0.4411754310131073\n"
          ],
          "name": "stdout"
        },
        {
          "output_type": "stream",
          "text": [
            " 47%|████▋     | 4717/10000 [00:40<00:44, 117.57it/s]"
          ],
          "name": "stderr"
        },
        {
          "output_type": "stream",
          "text": [
            "ep:4700 d_loss:-0.04915406554937363 t_loss:-0.030865352600812912 r_loss:0.3654576539993286\n"
          ],
          "name": "stdout"
        },
        {
          "output_type": "stream",
          "text": [
            " 48%|████▊     | 4815/10000 [00:41<00:44, 117.00it/s]"
          ],
          "name": "stderr"
        },
        {
          "output_type": "stream",
          "text": [
            "ep:4800 d_loss:-0.056980397552251816 t_loss:0.016228437423706055 r_loss:0.4223061501979828\n"
          ],
          "name": "stdout"
        },
        {
          "output_type": "stream",
          "text": [
            " 49%|████▉     | 4924/10000 [00:42<00:44, 114.32it/s]"
          ],
          "name": "stderr"
        },
        {
          "output_type": "stream",
          "text": [
            "ep:4900 d_loss:-0.0518186017870903 t_loss:-0.021041423082351685 r_loss:0.37059420347213745\n"
          ],
          "name": "stdout"
        },
        {
          "output_type": "stream",
          "text": [
            " 50%|█████     | 5023/10000 [00:43<00:42, 117.29it/s]"
          ],
          "name": "stderr"
        },
        {
          "output_type": "stream",
          "text": [
            "ep:5000 d_loss:-0.05079280957579613 t_loss:-0.016216667369008064 r_loss:0.4334218502044678\n"
          ],
          "name": "stdout"
        },
        {
          "output_type": "stream",
          "text": [
            " 51%|█████     | 5122/10000 [00:44<00:41, 116.67it/s]"
          ],
          "name": "stderr"
        },
        {
          "output_type": "stream",
          "text": [
            "ep:5100 d_loss:-0.05385594069957733 t_loss:0.0036228890530765057 r_loss:0.36857423186302185\n"
          ],
          "name": "stdout"
        },
        {
          "output_type": "stream",
          "text": [
            " 52%|█████▏    | 5222/10000 [00:45<00:41, 115.62it/s]"
          ],
          "name": "stderr"
        },
        {
          "output_type": "stream",
          "text": [
            "ep:5200 d_loss:-0.05478890612721443 t_loss:0.002188872080296278 r_loss:0.41831398010253906\n"
          ],
          "name": "stdout"
        },
        {
          "output_type": "stream",
          "text": [
            " 53%|█████▎    | 5320/10000 [00:46<00:39, 117.40it/s]"
          ],
          "name": "stderr"
        },
        {
          "output_type": "stream",
          "text": [
            "ep:5300 d_loss:-0.04938901960849762 t_loss:-0.016059085726737976 r_loss:0.39298883080482483\n"
          ],
          "name": "stdout"
        },
        {
          "output_type": "stream",
          "text": [
            " 54%|█████▍    | 5416/10000 [00:47<00:41, 110.87it/s]"
          ],
          "name": "stderr"
        },
        {
          "output_type": "stream",
          "text": [
            "ep:5400 d_loss:-0.05033222213387489 t_loss:-0.008084888570010662 r_loss:0.3666086196899414\n"
          ],
          "name": "stdout"
        },
        {
          "output_type": "stream",
          "text": [
            " 55%|█████▌    | 5514/10000 [00:47<00:38, 117.68it/s]"
          ],
          "name": "stderr"
        },
        {
          "output_type": "stream",
          "text": [
            "ep:5500 d_loss:-0.05833512544631958 t_loss:-0.007838443852961063 r_loss:0.37481021881103516\n"
          ],
          "name": "stdout"
        },
        {
          "output_type": "stream",
          "text": [
            " 56%|█████▌    | 5623/10000 [00:48<00:37, 116.35it/s]"
          ],
          "name": "stderr"
        },
        {
          "output_type": "stream",
          "text": [
            "ep:5600 d_loss:-0.05470593273639679 t_loss:-0.007440218236297369 r_loss:0.3926965892314911\n"
          ],
          "name": "stdout"
        },
        {
          "output_type": "stream",
          "text": [
            " 57%|█████▋    | 5720/10000 [00:49<00:36, 116.85it/s]"
          ],
          "name": "stderr"
        },
        {
          "output_type": "stream",
          "text": [
            "ep:5700 d_loss:-0.05146297439932823 t_loss:-0.0037304507568478584 r_loss:0.38708221912384033\n"
          ],
          "name": "stdout"
        },
        {
          "output_type": "stream",
          "text": [
            " 58%|█████▊    | 5817/10000 [00:50<00:36, 114.43it/s]"
          ],
          "name": "stderr"
        },
        {
          "output_type": "stream",
          "text": [
            "ep:5800 d_loss:-0.050747066736221313 t_loss:-0.013311407528817654 r_loss:0.4175031781196594\n"
          ],
          "name": "stdout"
        },
        {
          "output_type": "stream",
          "text": [
            " 59%|█████▉    | 5913/10000 [00:51<00:35, 115.42it/s]"
          ],
          "name": "stderr"
        },
        {
          "output_type": "stream",
          "text": [
            "ep:5900 d_loss:-0.04774497449398041 t_loss:-0.02187509648501873 r_loss:0.38741979002952576\n"
          ],
          "name": "stdout"
        },
        {
          "output_type": "stream",
          "text": [
            " 60%|██████    | 6021/10000 [00:52<00:34, 114.11it/s]"
          ],
          "name": "stderr"
        },
        {
          "output_type": "stream",
          "text": [
            "ep:6000 d_loss:-0.05329734459519386 t_loss:-0.014998684637248516 r_loss:0.40025320649147034\n"
          ],
          "name": "stdout"
        },
        {
          "output_type": "stream",
          "text": [
            " 61%|██████    | 6117/10000 [00:53<00:34, 112.81it/s]"
          ],
          "name": "stderr"
        },
        {
          "output_type": "stream",
          "text": [
            "ep:6100 d_loss:-0.05201977863907814 t_loss:0.004622165113687515 r_loss:0.3553713858127594\n"
          ],
          "name": "stdout"
        },
        {
          "output_type": "stream",
          "text": [
            " 62%|██████▏   | 6213/10000 [00:53<00:33, 114.42it/s]"
          ],
          "name": "stderr"
        },
        {
          "output_type": "stream",
          "text": [
            "ep:6200 d_loss:-0.05110856518149376 t_loss:-0.023974664509296417 r_loss:0.3653567433357239\n"
          ],
          "name": "stdout"
        },
        {
          "output_type": "stream",
          "text": [
            " 63%|██████▎   | 6321/10000 [00:54<00:31, 115.40it/s]"
          ],
          "name": "stderr"
        },
        {
          "output_type": "stream",
          "text": [
            "ep:6300 d_loss:-0.06264575570821762 t_loss:0.016518648713827133 r_loss:0.3882654309272766\n"
          ],
          "name": "stdout"
        },
        {
          "output_type": "stream",
          "text": [
            " 64%|██████▍   | 6417/10000 [00:55<00:31, 115.37it/s]"
          ],
          "name": "stderr"
        },
        {
          "output_type": "stream",
          "text": [
            "ep:6400 d_loss:-0.04781024903059006 t_loss:-0.02578859217464924 r_loss:0.3991038203239441\n"
          ],
          "name": "stdout"
        },
        {
          "output_type": "stream",
          "text": [
            " 65%|██████▌   | 6514/10000 [00:56<00:30, 113.88it/s]"
          ],
          "name": "stderr"
        },
        {
          "output_type": "stream",
          "text": [
            "ep:6500 d_loss:-0.051092758774757385 t_loss:-0.010962137952446938 r_loss:0.4107479453086853\n"
          ],
          "name": "stdout"
        },
        {
          "output_type": "stream",
          "text": [
            " 66%|██████▌   | 6622/10000 [00:57<00:29, 114.47it/s]"
          ],
          "name": "stderr"
        },
        {
          "output_type": "stream",
          "text": [
            "ep:6600 d_loss:-0.05929466336965561 t_loss:0.0003008990315720439 r_loss:0.37338581681251526\n"
          ],
          "name": "stdout"
        },
        {
          "output_type": "stream",
          "text": [
            " 67%|██████▋   | 6718/10000 [00:58<00:29, 112.26it/s]"
          ],
          "name": "stderr"
        },
        {
          "output_type": "stream",
          "text": [
            "ep:6700 d_loss:-0.05681462585926056 t_loss:0.00289173424243927 r_loss:0.3839071989059448\n"
          ],
          "name": "stdout"
        },
        {
          "output_type": "stream",
          "text": [
            " 68%|██████▊   | 6814/10000 [00:59<00:28, 113.23it/s]"
          ],
          "name": "stderr"
        },
        {
          "output_type": "stream",
          "text": [
            "ep:6800 d_loss:-0.05045161023736 t_loss:-0.005698993802070618 r_loss:0.3765115737915039\n"
          ],
          "name": "stdout"
        },
        {
          "output_type": "stream",
          "text": [
            " 69%|██████▉   | 6922/10000 [01:00<00:27, 111.37it/s]"
          ],
          "name": "stderr"
        },
        {
          "output_type": "stream",
          "text": [
            "ep:6900 d_loss:-0.05468638986349106 t_loss:0.005618236027657986 r_loss:0.35556888580322266\n"
          ],
          "name": "stdout"
        },
        {
          "output_type": "stream",
          "text": [
            " 70%|███████   | 7018/10000 [01:01<00:26, 114.64it/s]"
          ],
          "name": "stderr"
        },
        {
          "output_type": "stream",
          "text": [
            "ep:7000 d_loss:-0.05095379799604416 t_loss:-0.03265000134706497 r_loss:0.37265917658805847\n"
          ],
          "name": "stdout"
        },
        {
          "output_type": "stream",
          "text": [
            " 71%|███████   | 7114/10000 [01:01<00:24, 116.49it/s]"
          ],
          "name": "stderr"
        },
        {
          "output_type": "stream",
          "text": [
            "ep:7100 d_loss:-0.05372331291437149 t_loss:-0.011715811677277088 r_loss:0.36106985807418823\n"
          ],
          "name": "stdout"
        },
        {
          "output_type": "stream",
          "text": [
            " 72%|███████▏  | 7222/10000 [01:02<00:24, 115.11it/s]"
          ],
          "name": "stderr"
        },
        {
          "output_type": "stream",
          "text": [
            "ep:7200 d_loss:-0.05711629241704941 t_loss:-0.0008823024109005928 r_loss:0.3885840177536011\n"
          ],
          "name": "stdout"
        },
        {
          "output_type": "stream",
          "text": [
            " 73%|███████▎  | 7318/10000 [01:03<00:23, 113.37it/s]"
          ],
          "name": "stderr"
        },
        {
          "output_type": "stream",
          "text": [
            "ep:7300 d_loss:-0.05201012268662453 t_loss:-0.00896280724555254 r_loss:0.37142711877822876\n"
          ],
          "name": "stdout"
        },
        {
          "output_type": "stream",
          "text": [
            " 74%|███████▍  | 7414/10000 [01:04<00:23, 112.05it/s]"
          ],
          "name": "stderr"
        },
        {
          "output_type": "stream",
          "text": [
            "ep:7400 d_loss:-0.053072527050971985 t_loss:-0.017929604277014732 r_loss:0.3644025921821594\n"
          ],
          "name": "stdout"
        },
        {
          "output_type": "stream",
          "text": [
            " 75%|███████▌  | 7523/10000 [01:05<00:21, 115.53it/s]"
          ],
          "name": "stderr"
        },
        {
          "output_type": "stream",
          "text": [
            "ep:7500 d_loss:-0.05223310738801956 t_loss:-0.01412460207939148 r_loss:0.34353429079055786\n"
          ],
          "name": "stdout"
        },
        {
          "output_type": "stream",
          "text": [
            " 76%|███████▌  | 7619/10000 [01:06<00:21, 111.19it/s]"
          ],
          "name": "stderr"
        },
        {
          "output_type": "stream",
          "text": [
            "ep:7600 d_loss:-0.058357879519462585 t_loss:0.006276230793446302 r_loss:0.40070515871047974\n"
          ],
          "name": "stdout"
        },
        {
          "output_type": "stream",
          "text": [
            " 77%|███████▋  | 7715/10000 [01:07<00:19, 116.77it/s]"
          ],
          "name": "stderr"
        },
        {
          "output_type": "stream",
          "text": [
            "ep:7700 d_loss:-0.05140906199812889 t_loss:-0.013658992014825344 r_loss:0.36948105692863464\n"
          ],
          "name": "stdout"
        },
        {
          "output_type": "stream",
          "text": [
            " 78%|███████▊  | 7824/10000 [01:08<00:19, 114.03it/s]"
          ],
          "name": "stderr"
        },
        {
          "output_type": "stream",
          "text": [
            "ep:7800 d_loss:-0.05296801030635834 t_loss:-0.0137374522164464 r_loss:0.3689517676830292\n"
          ],
          "name": "stdout"
        },
        {
          "output_type": "stream",
          "text": [
            " 79%|███████▉  | 7920/10000 [01:08<00:18, 115.41it/s]"
          ],
          "name": "stderr"
        },
        {
          "output_type": "stream",
          "text": [
            "ep:7900 d_loss:-0.05118655040860176 t_loss:-0.008189957588911057 r_loss:0.3875963091850281\n"
          ],
          "name": "stdout"
        },
        {
          "output_type": "stream",
          "text": [
            " 80%|████████  | 8016/10000 [01:09<00:17, 112.67it/s]"
          ],
          "name": "stderr"
        },
        {
          "output_type": "stream",
          "text": [
            "ep:8000 d_loss:-0.05097019299864769 t_loss:-0.003180574392899871 r_loss:0.4125787913799286\n"
          ],
          "name": "stdout"
        },
        {
          "output_type": "stream",
          "text": [
            " 81%|████████  | 8124/10000 [01:10<00:16, 114.65it/s]"
          ],
          "name": "stderr"
        },
        {
          "output_type": "stream",
          "text": [
            "ep:8100 d_loss:-0.047855641692876816 t_loss:-0.030092496424913406 r_loss:0.3942195773124695\n"
          ],
          "name": "stdout"
        },
        {
          "output_type": "stream",
          "text": [
            " 82%|████████▏ | 8220/10000 [01:11<00:16, 110.88it/s]"
          ],
          "name": "stderr"
        },
        {
          "output_type": "stream",
          "text": [
            "ep:8200 d_loss:-0.04638529196381569 t_loss:-0.0356312170624733 r_loss:0.3610799312591553\n"
          ],
          "name": "stdout"
        },
        {
          "output_type": "stream",
          "text": [
            " 83%|████████▎ | 8316/10000 [01:12<00:14, 113.54it/s]"
          ],
          "name": "stderr"
        },
        {
          "output_type": "stream",
          "text": [
            "ep:8300 d_loss:-0.05571753531694412 t_loss:0.0013551587471738458 r_loss:0.3888087868690491\n"
          ],
          "name": "stdout"
        },
        {
          "output_type": "stream",
          "text": [
            " 84%|████████▍ | 8412/10000 [01:13<00:14, 111.39it/s]"
          ],
          "name": "stderr"
        },
        {
          "output_type": "stream",
          "text": [
            "ep:8400 d_loss:-0.05398174375295639 t_loss:-0.0006743993144482374 r_loss:0.34409675002098083\n"
          ],
          "name": "stdout"
        },
        {
          "output_type": "stream",
          "text": [
            " 85%|████████▌ | 8520/10000 [01:14<00:13, 113.18it/s]"
          ],
          "name": "stderr"
        },
        {
          "output_type": "stream",
          "text": [
            "ep:8500 d_loss:-0.050390735268592834 t_loss:-0.033167626708745956 r_loss:0.388693243265152\n"
          ],
          "name": "stdout"
        },
        {
          "output_type": "stream",
          "text": [
            " 86%|████████▌ | 8616/10000 [01:15<00:12, 110.64it/s]"
          ],
          "name": "stderr"
        },
        {
          "output_type": "stream",
          "text": [
            "ep:8600 d_loss:-0.05386032164096832 t_loss:-0.010787172242999077 r_loss:0.35849952697753906\n"
          ],
          "name": "stdout"
        },
        {
          "output_type": "stream",
          "text": [
            " 87%|████████▋ | 8724/10000 [01:16<00:11, 115.93it/s]"
          ],
          "name": "stderr"
        },
        {
          "output_type": "stream",
          "text": [
            "ep:8700 d_loss:-0.0504801906645298 t_loss:-0.0067273471504449844 r_loss:0.35707226395606995\n"
          ],
          "name": "stdout"
        },
        {
          "output_type": "stream",
          "text": [
            " 88%|████████▊ | 8820/10000 [01:16<00:10, 115.45it/s]"
          ],
          "name": "stderr"
        },
        {
          "output_type": "stream",
          "text": [
            "ep:8800 d_loss:-0.05089281499385834 t_loss:-0.010986841283738613 r_loss:0.32786256074905396\n"
          ],
          "name": "stdout"
        },
        {
          "output_type": "stream",
          "text": [
            " 89%|████████▉ | 8915/10000 [01:17<00:09, 110.85it/s]"
          ],
          "name": "stderr"
        },
        {
          "output_type": "stream",
          "text": [
            "ep:8900 d_loss:-0.05351094901561737 t_loss:-0.00701906019821763 r_loss:0.3440592288970947\n"
          ],
          "name": "stdout"
        },
        {
          "output_type": "stream",
          "text": [
            " 90%|█████████ | 9023/10000 [01:18<00:08, 114.33it/s]"
          ],
          "name": "stderr"
        },
        {
          "output_type": "stream",
          "text": [
            "ep:9000 d_loss:-0.052046213299036026 t_loss:-0.010730838403105736 r_loss:0.37195733189582825\n"
          ],
          "name": "stdout"
        },
        {
          "output_type": "stream",
          "text": [
            " 91%|█████████ | 9119/10000 [01:19<00:07, 114.86it/s]"
          ],
          "name": "stderr"
        },
        {
          "output_type": "stream",
          "text": [
            "ep:9100 d_loss:-0.050877999514341354 t_loss:-0.016897467896342278 r_loss:0.3614279627799988\n"
          ],
          "name": "stdout"
        },
        {
          "output_type": "stream",
          "text": [
            " 92%|█████████▏| 9216/10000 [01:20<00:06, 112.58it/s]"
          ],
          "name": "stderr"
        },
        {
          "output_type": "stream",
          "text": [
            "ep:9200 d_loss:-0.0489368811249733 t_loss:-0.03149968385696411 r_loss:0.38533496856689453\n"
          ],
          "name": "stdout"
        },
        {
          "output_type": "stream",
          "text": [
            " 93%|█████████▎| 9324/10000 [01:21<00:06, 112.25it/s]"
          ],
          "name": "stderr"
        },
        {
          "output_type": "stream",
          "text": [
            "ep:9300 d_loss:-0.050575193017721176 t_loss:-0.01179218478500843 r_loss:0.3522062301635742\n"
          ],
          "name": "stdout"
        },
        {
          "output_type": "stream",
          "text": [
            " 94%|█████████▍| 9421/10000 [01:22<00:05, 114.46it/s]"
          ],
          "name": "stderr"
        },
        {
          "output_type": "stream",
          "text": [
            "ep:9400 d_loss:-0.05131876468658447 t_loss:-0.011982460506260395 r_loss:0.3373314440250397\n"
          ],
          "name": "stdout"
        },
        {
          "output_type": "stream",
          "text": [
            " 95%|█████████▌| 9517/10000 [01:23<00:04, 115.68it/s]"
          ],
          "name": "stderr"
        },
        {
          "output_type": "stream",
          "text": [
            "ep:9500 d_loss:-0.05526800453662872 t_loss:0.003774105804041028 r_loss:0.37379181385040283\n"
          ],
          "name": "stdout"
        },
        {
          "output_type": "stream",
          "text": [
            " 96%|█████████▌| 9613/10000 [01:23<00:03, 114.90it/s]"
          ],
          "name": "stderr"
        },
        {
          "output_type": "stream",
          "text": [
            "ep:9600 d_loss:-0.05004512146115303 t_loss:-0.020934835076332092 r_loss:0.36548134684562683\n"
          ],
          "name": "stdout"
        },
        {
          "output_type": "stream",
          "text": [
            " 97%|█████████▋| 9721/10000 [01:24<00:02, 111.24it/s]"
          ],
          "name": "stderr"
        },
        {
          "output_type": "stream",
          "text": [
            "ep:9700 d_loss:-0.05104764923453331 t_loss:-0.029966892674565315 r_loss:0.3724062144756317\n"
          ],
          "name": "stdout"
        },
        {
          "output_type": "stream",
          "text": [
            " 98%|█████████▊| 9817/10000 [01:25<00:01, 113.74it/s]"
          ],
          "name": "stderr"
        },
        {
          "output_type": "stream",
          "text": [
            "ep:9800 d_loss:-0.04711374640464783 t_loss:-0.021953562274575233 r_loss:0.36560627818107605\n"
          ],
          "name": "stdout"
        },
        {
          "output_type": "stream",
          "text": [
            " 99%|█████████▉| 9915/10000 [01:26<00:00, 115.79it/s]"
          ],
          "name": "stderr"
        },
        {
          "output_type": "stream",
          "text": [
            "ep:9900 d_loss:-0.048787862062454224 t_loss:-0.015516713261604309 r_loss:0.35283249616622925\n"
          ],
          "name": "stdout"
        },
        {
          "output_type": "stream",
          "text": [
            "100%|██████████| 10000/10000 [01:27<00:00, 114.55it/s]\n"
          ],
          "name": "stderr"
        },
        {
          "output_type": "display_data",
          "data": {
            "image/png": "[encoded data removed]",
            "text/plain": [
              "<Figure size 432x288 with 1 Axes>"
            ]
          },
          "metadata": {
            "tags": [],
            "needs_background": "light"
          }
        },
        {
          "output_type": "stream",
          "text": [
            "end train\n"
          ],
          "name": "stdout"
        }
      ]
    },
    {
      "cell_type": "markdown",
      "metadata": {
        "id": "l4WmSssvmkIW"
      },
      "source": [
        "# model predict"
      ]
    },
    {
      "cell_type": "code",
      "metadata": {
        "id": "4Va6a0HLrY-D"
      },
      "source": [
        "x_test = final_test_data[x_col]\n",
        "y_test = final_test_data[y_col]"
      ],
      "execution_count": 12,
      "outputs": []
    },
    {
      "cell_type": "code",
      "metadata": {
        "id": "guXtrj9ukuOC"
      },
      "source": [
        "adda_y_hat = model.predict(x_test)\n",
        "xgb_200_y_hat = pd.DataFrame(xgb_200.predict(x_test),columns=y_col)\n",
        "xgb_4765_y_hat = pd.DataFrame(xgb_4765.predict(x_test),columns=y_col)"
      ],
      "execution_count": 13,
      "outputs": []
    },
    {
      "cell_type": "markdown",
      "metadata": {
        "id": "ZtsCEzVn-KiY"
      },
      "source": [
        "# evaluate"
      ]
    },
    {
      "cell_type": "code",
      "metadata": {
        "id": "9ISpu8n6mbko"
      },
      "source": [
        "from sklearn.metrics import r2_score,mean_squared_error\n",
        "\n",
        "def mape(y_true, y_pred): \n",
        "    y_true, y_pred = np.array(y_true), np.array(y_pred)\n",
        "    return np.mean(np.abs((y_true - y_pred) / y_true)) * 100\n",
        "\n",
        "def show_metrics(y_pred,y_real):\n",
        "  res = pd.DataFrame(index=y_pred.columns,columns=['R2','RMSE','MAPE'])\n",
        "  for i in y_pred.columns:\n",
        "    res.loc[i,'R2'] = r2_score(y_real[i],y_pred[i])\n",
        "    res.loc[i,'RMSE'] = np.sqrt(mean_squared_error(y_real[i],y_pred[i]))\n",
        "    res.loc[i,'MAPE'] = mape(y_real[i],y_pred[i])\n",
        "  res.loc['AVG'] = res.mean(axis=0)\n",
        "  return res"
      ],
      "execution_count": 14,
      "outputs": []
    },
    {
      "cell_type": "code",
      "metadata": {
        "colab": {
          "base_uri": "https://localhost:8080/",
          "height": 768
        },
        "id": "nanzYp8oqNrw",
        "outputId": "9f2c4dd9-153a-4784-820a-380c6ca1fb7a"
      },
      "source": [
        "adda_res = show_metrics(adda_y_hat,y_test)\n",
        "adda_res"
      ],
      "execution_count": 15,
      "outputs": [
        {
          "output_type": "execute_result",
          "data": {
            "text/html": [
              "<div>\n",
              "<style scoped>\n",
              "    .dataframe tbody tr th:only-of-type {\n",
              "        vertical-align: middle;\n",
              "    }\n",
              "\n",
              "    .dataframe tbody tr th {\n",
              "        vertical-align: top;\n",
              "    }\n",
              "\n",
              "    .dataframe thead th {\n",
              "        text-align: right;\n",
              "    }\n",
              "</style>\n",
              "<table border=\"1\" class=\"dataframe\">\n",
              "  <thead>\n",
              "    <tr style=\"text-align: right;\">\n",
              "      <th></th>\n",
              "      <th>R2</th>\n",
              "      <th>RMSE</th>\n",
              "      <th>MAPE</th>\n",
              "    </tr>\n",
              "  </thead>\n",
              "  <tbody>\n",
              "    <tr>\n",
              "      <th>C5NP</th>\n",
              "      <td>0.97096</td>\n",
              "      <td>0.678474</td>\n",
              "      <td>133.719</td>\n",
              "    </tr>\n",
              "    <tr>\n",
              "      <th>C5IP</th>\n",
              "      <td>0.946441</td>\n",
              "      <td>0.660251</td>\n",
              "      <td>156.883</td>\n",
              "    </tr>\n",
              "    <tr>\n",
              "      <th>C5N</th>\n",
              "      <td>0.959295</td>\n",
              "      <td>0.0670634</td>\n",
              "      <td>inf</td>\n",
              "    </tr>\n",
              "    <tr>\n",
              "      <th>C6NP</th>\n",
              "      <td>0.902106</td>\n",
              "      <td>0.691951</td>\n",
              "      <td>193.7</td>\n",
              "    </tr>\n",
              "    <tr>\n",
              "      <th>C6IP</th>\n",
              "      <td>0.947318</td>\n",
              "      <td>0.633209</td>\n",
              "      <td>313.676</td>\n",
              "    </tr>\n",
              "    <tr>\n",
              "      <th>C6N</th>\n",
              "      <td>0.74267</td>\n",
              "      <td>1.16382</td>\n",
              "      <td>22.277</td>\n",
              "    </tr>\n",
              "    <tr>\n",
              "      <th>C6A</th>\n",
              "      <td>0.894966</td>\n",
              "      <td>0.381205</td>\n",
              "      <td>79.9405</td>\n",
              "    </tr>\n",
              "    <tr>\n",
              "      <th>C7NP</th>\n",
              "      <td>0.808022</td>\n",
              "      <td>0.539564</td>\n",
              "      <td>7.50759</td>\n",
              "    </tr>\n",
              "    <tr>\n",
              "      <th>C7IP</th>\n",
              "      <td>0.712255</td>\n",
              "      <td>0.902709</td>\n",
              "      <td>11.659</td>\n",
              "    </tr>\n",
              "    <tr>\n",
              "      <th>C7N</th>\n",
              "      <td>0.93244</td>\n",
              "      <td>1.46779</td>\n",
              "      <td>7.4214</td>\n",
              "    </tr>\n",
              "    <tr>\n",
              "      <th>C7A</th>\n",
              "      <td>0.523421</td>\n",
              "      <td>0.895756</td>\n",
              "      <td>12.905</td>\n",
              "    </tr>\n",
              "    <tr>\n",
              "      <th>C8NP</th>\n",
              "      <td>0.751967</td>\n",
              "      <td>0.860666</td>\n",
              "      <td>11.7793</td>\n",
              "    </tr>\n",
              "    <tr>\n",
              "      <th>C8IP</th>\n",
              "      <td>0.477239</td>\n",
              "      <td>1.94756</td>\n",
              "      <td>32.9951</td>\n",
              "    </tr>\n",
              "    <tr>\n",
              "      <th>C8N</th>\n",
              "      <td>0.693752</td>\n",
              "      <td>2.09904</td>\n",
              "      <td>14.571</td>\n",
              "    </tr>\n",
              "    <tr>\n",
              "      <th>C8A</th>\n",
              "      <td>0.697323</td>\n",
              "      <td>0.822034</td>\n",
              "      <td>9.85228</td>\n",
              "    </tr>\n",
              "    <tr>\n",
              "      <th>C9NP</th>\n",
              "      <td>0.819593</td>\n",
              "      <td>0.610692</td>\n",
              "      <td>147.274</td>\n",
              "    </tr>\n",
              "    <tr>\n",
              "      <th>C9IP</th>\n",
              "      <td>0.868924</td>\n",
              "      <td>0.744598</td>\n",
              "      <td>8.26741</td>\n",
              "    </tr>\n",
              "    <tr>\n",
              "      <th>C9N</th>\n",
              "      <td>0.687011</td>\n",
              "      <td>0.880717</td>\n",
              "      <td>13.7736</td>\n",
              "    </tr>\n",
              "    <tr>\n",
              "      <th>C9A</th>\n",
              "      <td>0.707844</td>\n",
              "      <td>0.516053</td>\n",
              "      <td>15.7542</td>\n",
              "    </tr>\n",
              "    <tr>\n",
              "      <th>C10NP</th>\n",
              "      <td>0.752487</td>\n",
              "      <td>0.423331</td>\n",
              "      <td>129.685</td>\n",
              "    </tr>\n",
              "    <tr>\n",
              "      <th>C10IP</th>\n",
              "      <td>0.77396</td>\n",
              "      <td>0.758446</td>\n",
              "      <td>18.1483</td>\n",
              "    </tr>\n",
              "    <tr>\n",
              "      <th>C10N</th>\n",
              "      <td>0.448505</td>\n",
              "      <td>0.247243</td>\n",
              "      <td>49.3837</td>\n",
              "    </tr>\n",
              "    <tr>\n",
              "      <th>C10A</th>\n",
              "      <td>0.595699</td>\n",
              "      <td>0.715216</td>\n",
              "      <td>69.5468</td>\n",
              "    </tr>\n",
              "    <tr>\n",
              "      <th>AVG</th>\n",
              "      <td>0.765835</td>\n",
              "      <td>0.813365</td>\n",
              "      <td>inf</td>\n",
              "    </tr>\n",
              "  </tbody>\n",
              "</table>\n",
              "</div>"
            ],
            "text/plain": [
              "             R2       RMSE     MAPE\n",
              "C5NP    0.97096   0.678474  133.719\n",
              "C5IP   0.946441   0.660251  156.883\n",
              "C5N    0.959295  0.0670634      inf\n",
              "C6NP   0.902106   0.691951    193.7\n",
              "C6IP   0.947318   0.633209  313.676\n",
              "C6N     0.74267    1.16382   22.277\n",
              "C6A    0.894966   0.381205  79.9405\n",
              "C7NP   0.808022   0.539564  7.50759\n",
              "C7IP   0.712255   0.902709   11.659\n",
              "C7N     0.93244    1.46779   7.4214\n",
              "C7A    0.523421   0.895756   12.905\n",
              "C8NP   0.751967   0.860666  11.7793\n",
              "C8IP   0.477239    1.94756  32.9951\n",
              "C8N    0.693752    2.09904   14.571\n",
              "C8A    0.697323   0.822034  9.85228\n",
              "C9NP   0.819593   0.610692  147.274\n",
              "C9IP   0.868924   0.744598  8.26741\n",
              "C9N    0.687011   0.880717  13.7736\n",
              "C9A    0.707844   0.516053  15.7542\n",
              "C10NP  0.752487   0.423331  129.685\n",
              "C10IP   0.77396   0.758446  18.1483\n",
              "C10N   0.448505   0.247243  49.3837\n",
              "C10A   0.595699   0.715216  69.5468\n",
              "AVG    0.765835   0.813365      inf"
            ]
          },
          "metadata": {
            "tags": []
          },
          "execution_count": 15
        }
      ]
    },
    {
      "cell_type": "code",
      "metadata": {
        "colab": {
          "base_uri": "https://localhost:8080/",
          "height": 768
        },
        "id": "m7v8TRWwqQZB",
        "outputId": "b1118da9-e902-4e4b-9838-fbe06bf10d16"
      },
      "source": [
        "xgb_200_res = show_metrics(xgb_200_y_hat,y_test)\n",
        "xgb_200_res"
      ],
      "execution_count": 16,
      "outputs": [
        {
          "output_type": "execute_result",
          "data": {
            "text/html": [
              "<div>\n",
              "<style scoped>\n",
              "    .dataframe tbody tr th:only-of-type {\n",
              "        vertical-align: middle;\n",
              "    }\n",
              "\n",
              "    .dataframe tbody tr th {\n",
              "        vertical-align: top;\n",
              "    }\n",
              "\n",
              "    .dataframe thead th {\n",
              "        text-align: right;\n",
              "    }\n",
              "</style>\n",
              "<table border=\"1\" class=\"dataframe\">\n",
              "  <thead>\n",
              "    <tr style=\"text-align: right;\">\n",
              "      <th></th>\n",
              "      <th>R2</th>\n",
              "      <th>RMSE</th>\n",
              "      <th>MAPE</th>\n",
              "    </tr>\n",
              "  </thead>\n",
              "  <tbody>\n",
              "    <tr>\n",
              "      <th>C5NP</th>\n",
              "      <td>-0.40302</td>\n",
              "      <td>4.71594</td>\n",
              "      <td>301.782</td>\n",
              "    </tr>\n",
              "    <tr>\n",
              "      <th>C5IP</th>\n",
              "      <td>-0.508295</td>\n",
              "      <td>3.50378</td>\n",
              "      <td>305.288</td>\n",
              "    </tr>\n",
              "    <tr>\n",
              "      <th>C5N</th>\n",
              "      <td>-0.658369</td>\n",
              "      <td>0.428056</td>\n",
              "      <td>inf</td>\n",
              "    </tr>\n",
              "    <tr>\n",
              "      <th>C6NP</th>\n",
              "      <td>-1.03305</td>\n",
              "      <td>3.15334</td>\n",
              "      <td>383.258</td>\n",
              "    </tr>\n",
              "    <tr>\n",
              "      <th>C6IP</th>\n",
              "      <td>-1.11798</td>\n",
              "      <td>4.01492</td>\n",
              "      <td>518.032</td>\n",
              "    </tr>\n",
              "    <tr>\n",
              "      <th>C6N</th>\n",
              "      <td>-2.63727</td>\n",
              "      <td>4.37552</td>\n",
              "      <td>66.341</td>\n",
              "    </tr>\n",
              "    <tr>\n",
              "      <th>C6A</th>\n",
              "      <td>-0.344394</td>\n",
              "      <td>1.36382</td>\n",
              "      <td>158.296</td>\n",
              "    </tr>\n",
              "    <tr>\n",
              "      <th>C7NP</th>\n",
              "      <td>-3.17324</td>\n",
              "      <td>2.51567</td>\n",
              "      <td>39.1575</td>\n",
              "    </tr>\n",
              "    <tr>\n",
              "      <th>C7IP</th>\n",
              "      <td>-0.152868</td>\n",
              "      <td>1.8069</td>\n",
              "      <td>23.3629</td>\n",
              "    </tr>\n",
              "    <tr>\n",
              "      <th>C7N</th>\n",
              "      <td>-3.03899</td>\n",
              "      <td>11.3489</td>\n",
              "      <td>82.6034</td>\n",
              "    </tr>\n",
              "    <tr>\n",
              "      <th>C7A</th>\n",
              "      <td>-0.401463</td>\n",
              "      <td>1.53608</td>\n",
              "      <td>22.3278</td>\n",
              "    </tr>\n",
              "    <tr>\n",
              "      <th>C8NP</th>\n",
              "      <td>-1.07468</td>\n",
              "      <td>2.48918</td>\n",
              "      <td>47.4329</td>\n",
              "    </tr>\n",
              "    <tr>\n",
              "      <th>C8IP</th>\n",
              "      <td>-0.776214</td>\n",
              "      <td>3.58993</td>\n",
              "      <td>41.8237</td>\n",
              "    </tr>\n",
              "    <tr>\n",
              "      <th>C8N</th>\n",
              "      <td>-3.20354</td>\n",
              "      <td>7.77663</td>\n",
              "      <td>110.085</td>\n",
              "    </tr>\n",
              "    <tr>\n",
              "      <th>C8A</th>\n",
              "      <td>-0.00140184</td>\n",
              "      <td>1.49522</td>\n",
              "      <td>27.2386</td>\n",
              "    </tr>\n",
              "    <tr>\n",
              "      <th>C9NP</th>\n",
              "      <td>-0.274455</td>\n",
              "      <td>1.62315</td>\n",
              "      <td>278.322</td>\n",
              "    </tr>\n",
              "    <tr>\n",
              "      <th>C9IP</th>\n",
              "      <td>-3.91371</td>\n",
              "      <td>4.55895</td>\n",
              "      <td>89.6376</td>\n",
              "    </tr>\n",
              "    <tr>\n",
              "      <th>C9N</th>\n",
              "      <td>-2.50415</td>\n",
              "      <td>2.94689</td>\n",
              "      <td>100.058</td>\n",
              "    </tr>\n",
              "    <tr>\n",
              "      <th>C9A</th>\n",
              "      <td>-0.150967</td>\n",
              "      <td>1.02428</td>\n",
              "      <td>57.133</td>\n",
              "    </tr>\n",
              "    <tr>\n",
              "      <th>C10NP</th>\n",
              "      <td>-7.87007</td>\n",
              "      <td>2.53422</td>\n",
              "      <td>739.239</td>\n",
              "    </tr>\n",
              "    <tr>\n",
              "      <th>C10IP</th>\n",
              "      <td>-4.20329</td>\n",
              "      <td>3.63891</td>\n",
              "      <td>186.584</td>\n",
              "    </tr>\n",
              "    <tr>\n",
              "      <th>C10N</th>\n",
              "      <td>-3.22252</td>\n",
              "      <td>0.68413</td>\n",
              "      <td>337.654</td>\n",
              "    </tr>\n",
              "    <tr>\n",
              "      <th>C10A</th>\n",
              "      <td>-3.85653</td>\n",
              "      <td>2.47884</td>\n",
              "      <td>768.777</td>\n",
              "    </tr>\n",
              "    <tr>\n",
              "      <th>AVG</th>\n",
              "      <td>-1.93567</td>\n",
              "      <td>3.20014</td>\n",
              "      <td>inf</td>\n",
              "    </tr>\n",
              "  </tbody>\n",
              "</table>\n",
              "</div>"
            ],
            "text/plain": [
              "               R2      RMSE     MAPE\n",
              "C5NP     -0.40302   4.71594  301.782\n",
              "C5IP    -0.508295   3.50378  305.288\n",
              "C5N     -0.658369  0.428056      inf\n",
              "C6NP     -1.03305   3.15334  383.258\n",
              "C6IP     -1.11798   4.01492  518.032\n",
              "C6N      -2.63727   4.37552   66.341\n",
              "C6A     -0.344394   1.36382  158.296\n",
              "C7NP     -3.17324   2.51567  39.1575\n",
              "C7IP    -0.152868    1.8069  23.3629\n",
              "C7N      -3.03899   11.3489  82.6034\n",
              "C7A     -0.401463   1.53608  22.3278\n",
              "C8NP     -1.07468   2.48918  47.4329\n",
              "C8IP    -0.776214   3.58993  41.8237\n",
              "C8N      -3.20354   7.77663  110.085\n",
              "C8A   -0.00140184   1.49522  27.2386\n",
              "C9NP    -0.274455   1.62315  278.322\n",
              "C9IP     -3.91371   4.55895  89.6376\n",
              "C9N      -2.50415   2.94689  100.058\n",
              "C9A     -0.150967   1.02428   57.133\n",
              "C10NP    -7.87007   2.53422  739.239\n",
              "C10IP    -4.20329   3.63891  186.584\n",
              "C10N     -3.22252   0.68413  337.654\n",
              "C10A     -3.85653   2.47884  768.777\n",
              "AVG      -1.93567   3.20014      inf"
            ]
          },
          "metadata": {
            "tags": []
          },
          "execution_count": 16
        }
      ]
    },
    {
      "cell_type": "code",
      "metadata": {
        "colab": {
          "base_uri": "https://localhost:8080/",
          "height": 768
        },
        "id": "JD12v4SL8JT7",
        "outputId": "a6208c0e-5c67-4aed-f247-81b6d6f2cc2c"
      },
      "source": [
        "xgb_4765_res = show_metrics(xgb_4765_y_hat,y_test)\n",
        "xgb_4765_res"
      ],
      "execution_count": 17,
      "outputs": [
        {
          "output_type": "execute_result",
          "data": {
            "text/html": [
              "<div>\n",
              "<style scoped>\n",
              "    .dataframe tbody tr th:only-of-type {\n",
              "        vertical-align: middle;\n",
              "    }\n",
              "\n",
              "    .dataframe tbody tr th {\n",
              "        vertical-align: top;\n",
              "    }\n",
              "\n",
              "    .dataframe thead th {\n",
              "        text-align: right;\n",
              "    }\n",
              "</style>\n",
              "<table border=\"1\" class=\"dataframe\">\n",
              "  <thead>\n",
              "    <tr style=\"text-align: right;\">\n",
              "      <th></th>\n",
              "      <th>R2</th>\n",
              "      <th>RMSE</th>\n",
              "      <th>MAPE</th>\n",
              "    </tr>\n",
              "  </thead>\n",
              "  <tbody>\n",
              "    <tr>\n",
              "      <th>C5NP</th>\n",
              "      <td>-0.33968</td>\n",
              "      <td>4.60826</td>\n",
              "      <td>359.784</td>\n",
              "    </tr>\n",
              "    <tr>\n",
              "      <th>C5IP</th>\n",
              "      <td>-0.387211</td>\n",
              "      <td>3.3602</td>\n",
              "      <td>511.228</td>\n",
              "    </tr>\n",
              "    <tr>\n",
              "      <th>C5N</th>\n",
              "      <td>-0.784089</td>\n",
              "      <td>0.443985</td>\n",
              "      <td>inf</td>\n",
              "    </tr>\n",
              "    <tr>\n",
              "      <th>C6NP</th>\n",
              "      <td>-1.08413</td>\n",
              "      <td>3.19271</td>\n",
              "      <td>369.561</td>\n",
              "    </tr>\n",
              "    <tr>\n",
              "      <th>C6IP</th>\n",
              "      <td>-0.787834</td>\n",
              "      <td>3.68875</td>\n",
              "      <td>774.755</td>\n",
              "    </tr>\n",
              "    <tr>\n",
              "      <th>C6N</th>\n",
              "      <td>-2.50258</td>\n",
              "      <td>4.29374</td>\n",
              "      <td>65.4082</td>\n",
              "    </tr>\n",
              "    <tr>\n",
              "      <th>C6A</th>\n",
              "      <td>-12.2616</td>\n",
              "      <td>4.28341</td>\n",
              "      <td>2284.08</td>\n",
              "    </tr>\n",
              "    <tr>\n",
              "      <th>C7NP</th>\n",
              "      <td>-4.224</td>\n",
              "      <td>2.81462</td>\n",
              "      <td>44.9428</td>\n",
              "    </tr>\n",
              "    <tr>\n",
              "      <th>C7IP</th>\n",
              "      <td>-2.14238</td>\n",
              "      <td>2.98314</td>\n",
              "      <td>41.0516</td>\n",
              "    </tr>\n",
              "    <tr>\n",
              "      <th>C7N</th>\n",
              "      <td>-2.59343</td>\n",
              "      <td>10.7046</td>\n",
              "      <td>50.9809</td>\n",
              "    </tr>\n",
              "    <tr>\n",
              "      <th>C7A</th>\n",
              "      <td>-19.5646</td>\n",
              "      <td>5.88412</td>\n",
              "      <td>162.182</td>\n",
              "    </tr>\n",
              "    <tr>\n",
              "      <th>C8NP</th>\n",
              "      <td>-1.50807</td>\n",
              "      <td>2.73685</td>\n",
              "      <td>33.0445</td>\n",
              "    </tr>\n",
              "    <tr>\n",
              "      <th>C8IP</th>\n",
              "      <td>-0.721197</td>\n",
              "      <td>3.5339</td>\n",
              "      <td>41.8402</td>\n",
              "    </tr>\n",
              "    <tr>\n",
              "      <th>C8N</th>\n",
              "      <td>-0.00924664</td>\n",
              "      <td>3.8105</td>\n",
              "      <td>40.3273</td>\n",
              "    </tr>\n",
              "    <tr>\n",
              "      <th>C8A</th>\n",
              "      <td>-263.922</td>\n",
              "      <td>24.3197</td>\n",
              "      <td>508.215</td>\n",
              "    </tr>\n",
              "    <tr>\n",
              "      <th>C9NP</th>\n",
              "      <td>-0.131295</td>\n",
              "      <td>1.52927</td>\n",
              "      <td>261.994</td>\n",
              "    </tr>\n",
              "    <tr>\n",
              "      <th>C9IP</th>\n",
              "      <td>-0.00627432</td>\n",
              "      <td>2.06309</td>\n",
              "      <td>26.6319</td>\n",
              "    </tr>\n",
              "    <tr>\n",
              "      <th>C9N</th>\n",
              "      <td>-2.1288</td>\n",
              "      <td>2.78459</td>\n",
              "      <td>52.3566</td>\n",
              "    </tr>\n",
              "    <tr>\n",
              "      <th>C9A</th>\n",
              "      <td>-4.53486</td>\n",
              "      <td>2.24616</td>\n",
              "      <td>135.837</td>\n",
              "    </tr>\n",
              "    <tr>\n",
              "      <th>C10NP</th>\n",
              "      <td>-0.298002</td>\n",
              "      <td>0.969435</td>\n",
              "      <td>278.369</td>\n",
              "    </tr>\n",
              "    <tr>\n",
              "      <th>C10IP</th>\n",
              "      <td>-0.410492</td>\n",
              "      <td>1.8946</td>\n",
              "      <td>91.31</td>\n",
              "    </tr>\n",
              "    <tr>\n",
              "      <th>C10N</th>\n",
              "      <td>-48.7238</td>\n",
              "      <td>2.34766</td>\n",
              "      <td>1079.84</td>\n",
              "    </tr>\n",
              "    <tr>\n",
              "      <th>C10A</th>\n",
              "      <td>-6.17904</td>\n",
              "      <td>3.01383</td>\n",
              "      <td>931.589</td>\n",
              "    </tr>\n",
              "    <tr>\n",
              "      <th>AVG</th>\n",
              "      <td>-16.315</td>\n",
              "      <td>4.23944</td>\n",
              "      <td>inf</td>\n",
              "    </tr>\n",
              "  </tbody>\n",
              "</table>\n",
              "</div>"
            ],
            "text/plain": [
              "               R2      RMSE     MAPE\n",
              "C5NP     -0.33968   4.60826  359.784\n",
              "C5IP    -0.387211    3.3602  511.228\n",
              "C5N     -0.784089  0.443985      inf\n",
              "C6NP     -1.08413   3.19271  369.561\n",
              "C6IP    -0.787834   3.68875  774.755\n",
              "C6N      -2.50258   4.29374  65.4082\n",
              "C6A      -12.2616   4.28341  2284.08\n",
              "C7NP       -4.224   2.81462  44.9428\n",
              "C7IP     -2.14238   2.98314  41.0516\n",
              "C7N      -2.59343   10.7046  50.9809\n",
              "C7A      -19.5646   5.88412  162.182\n",
              "C8NP     -1.50807   2.73685  33.0445\n",
              "C8IP    -0.721197    3.5339  41.8402\n",
              "C8N   -0.00924664    3.8105  40.3273\n",
              "C8A      -263.922   24.3197  508.215\n",
              "C9NP    -0.131295   1.52927  261.994\n",
              "C9IP  -0.00627432   2.06309  26.6319\n",
              "C9N       -2.1288   2.78459  52.3566\n",
              "C9A      -4.53486   2.24616  135.837\n",
              "C10NP   -0.298002  0.969435  278.369\n",
              "C10IP   -0.410492    1.8946    91.31\n",
              "C10N     -48.7238   2.34766  1079.84\n",
              "C10A     -6.17904   3.01383  931.589\n",
              "AVG       -16.315   4.23944      inf"
            ]
          },
          "metadata": {
            "tags": []
          },
          "execution_count": 17
        }
      ]
    },
    {
      "cell_type": "code",
      "metadata": {
        "colab": {
          "base_uri": "https://localhost:8080/",
          "height": 542
        },
        "id": "FNR8Ih3StYOu",
        "outputId": "4e0dd9a5-eebf-4b5e-91ff-e70969df2d40"
      },
      "source": [
        "import plotly.graph_objects as go\n",
        "\n",
        "fig = go.Figure(data=[\n",
        "    go.Bar(name='WADDA', x=y_col, y=adda_res['RMSE']),\n",
        "    go.Bar(name='XGB_200', x=y_col, y=xgb_200_res['RMSE']),\n",
        "    go.Bar(name='XGB_4765', x=y_col ,y=xgb_4765_res['RMSE']),\n",
        "])\n",
        "# Change the bar mode\n",
        "fig.update_layout(barmode='group',title='RMSE')\n",
        "fig.show()"
      ],
      "execution_count": 18,
      "outputs": [
        {
          "output_type": "display_data",
          "data": {
            "text/html": [
              "<html>\n",
              "<head><meta charset=\"utf-8\" /></head>\n",
              "<body>\n",
              "    <div>\n",
              "            <script src=\"https://cdnjs.cloudflare.com/ajax/libs/mathjax/2.7.5/MathJax.js?config=TeX-AMS-MML_SVG\"></script><script type=\"text/javascript\">if (window.MathJax) {MathJax.Hub.Config({SVG: {font: \"STIX-Web\"}});}</script>\n",
              "                <script type=\"text/javascript\">window.PlotlyConfig = {MathJaxConfig: 'local'};</script>\n",
              "        <script src=\"https://cdn.plot.ly/plotly-latest.min.js\"></script>    \n",
              "            <div id=\"4a9e3bd3-cbc8-4249-a86e-6555b167e148\" class=\"plotly-graph-div\" style=\"height:525px; width:100%;\"></div>\n",
              "            <script type=\"text/javascript\">\n",
              "                \n",
              "                    window.PLOTLYENV=window.PLOTLYENV || {};\n",
              "                    \n",
              "                if (document.getElementById(\"4a9e3bd3-cbc8-4249-a86e-6555b167e148\")) {\n",
              "                    Plotly.newPlot(\n",
              "                        '4a9e3bd3-cbc8-4249-a86e-6555b167e148',\n",
              "                        [{\"name\": \"WADDA\", \"type\": \"bar\", \"x\": [\"C5NP\", \"C5IP\", \"C5N\", \"C6NP\", \"C6IP\", \"C6N\", \"C6A\", \"C7NP\", \"C7IP\", \"C7N\", \"C7A\", \"C8NP\", \"C8IP\", \"C8N\", \"C8A\", \"C9NP\", \"C9IP\", \"C9N\", \"C9A\", \"C10NP\", \"C10IP\", \"C10N\", \"C10A\"], \"y\": [0.6784740456940506, 0.6602511753708209, 0.06706338444521229, 0.6919511938557381, 0.6332091446669559, 1.1638227331464448, 0.38120490435739857, 0.539564052931311, 0.9027093687753082, 1.4677900576674836, 0.8957556295808855, 0.8606663569469373, 1.9475578209935638, 2.099036092464596, 0.8220344553491635, 0.610692483112399, 0.7445975666394538, 0.880717189758364, 0.5160531867798005, 0.42333090131115275, 0.7584464511955948, 0.24724282487835908, 0.715216069297733, 0.8133646560529881]}, {\"name\": \"XGB_200\", \"type\": \"bar\", \"x\": [\"C5NP\", \"C5IP\", \"C5N\", \"C6NP\", \"C6IP\", \"C6N\", \"C6A\", \"C7NP\", \"C7IP\", \"C7N\", \"C7A\", \"C8NP\", \"C8IP\", \"C8N\", \"C8A\", \"C9NP\", \"C9IP\", \"C9N\", \"C9A\", \"C10NP\", \"C10IP\", \"C10N\", \"C10A\"], \"y\": [4.715936312870596, 3.5037809138963056, 0.4280563922588173, 3.153339746562658, 4.014920729004437, 4.375515289937662, 1.3638171871043632, 2.5156738399261878, 1.8068995727902184, 11.348910953198557, 1.5360765282287445, 2.489175235738406, 3.5899329659892603, 7.776627712212958, 1.4952171945867445, 1.6231499745515579, 4.558952313692939, 2.9468871125052902, 1.0242802811723926, 2.534222628651191, 3.6389128186414115, 0.6841297612744783, 2.478836858710282, 3.2001414053698025]}, {\"name\": \"XGB_4765\", \"type\": \"bar\", \"x\": [\"C5NP\", \"C5IP\", \"C5N\", \"C6NP\", \"C6IP\", \"C6N\", \"C6A\", \"C7NP\", \"C7IP\", \"C7N\", \"C7A\", \"C8NP\", \"C8IP\", \"C8N\", \"C8A\", \"C9NP\", \"C9IP\", \"C9N\", \"C9A\", \"C10NP\", \"C10IP\", \"C10N\", \"C10A\"], \"y\": [4.608256254781625, 3.3601995222447236, 0.4439854376477524, 3.1927081251872726, 3.6887491287452456, 4.293739170072635, 4.2834146261349115, 2.814615445794701, 2.9831404936831323, 10.704638305437062, 5.884123885303812, 2.7368457250863347, 3.533897623499929, 3.810502185751977, 24.319736488200185, 1.5292709025513618, 2.0630907273752515, 2.784585376216837, 2.246160753742724, 0.9694352300901071, 1.8946019505474565, 2.347657830391734, 3.01382744502875, 4.239442723196328]}],\n",
              "                        {\"barmode\": \"group\", \"template\": {\"data\": {\"bar\": [{\"error_x\": {\"color\": \"#2a3f5f\"}, \"error_y\": {\"color\": \"#2a3f5f\"}, \"marker\": {\"line\": {\"color\": \"#E5ECF6\", \"width\": 0.5}}, \"type\": \"bar\"}], \"barpolar\": [{\"marker\": {\"line\": {\"color\": \"#E5ECF6\", \"width\": 0.5}}, \"type\": \"barpolar\"}], \"carpet\": [{\"aaxis\": {\"endlinecolor\": \"#2a3f5f\", \"gridcolor\": \"white\", \"linecolor\": \"white\", \"minorgridcolor\": \"white\", \"startlinecolor\": \"#2a3f5f\"}, \"baxis\": {\"endlinecolor\": \"#2a3f5f\", \"gridcolor\": \"white\", \"linecolor\": \"white\", \"minorgridcolor\": \"white\", \"startlinecolor\": \"#2a3f5f\"}, \"type\": \"carpet\"}], \"choropleth\": [{\"colorbar\": {\"outlinewidth\": 0, \"ticks\": \"\"}, \"type\": \"choropleth\"}], \"contour\": [{\"colorbar\": {\"outlinewidth\": 0, \"ticks\": \"\"}, \"colorscale\": [[0.0, \"#0d0887\"], [0.1111111111111111, \"#46039f\"], [0.2222222222222222, \"#7201a8\"], [0.3333333333333333, \"#9c179e\"], [0.4444444444444444, \"#bd3786\"], [0.5555555555555556, \"#d8576b\"], [0.6666666666666666, \"#ed7953\"], [0.7777777777777778, \"#fb9f3a\"], [0.8888888888888888, \"#fdca26\"], [1.0, \"#f0f921\"]], \"type\": \"contour\"}], \"contourcarpet\": [{\"colorbar\": {\"outlinewidth\": 0, \"ticks\": \"\"}, \"type\": \"contourcarpet\"}], \"heatmap\": [{\"colorbar\": {\"outlinewidth\": 0, \"ticks\": \"\"}, \"colorscale\": [[0.0, \"#0d0887\"], [0.1111111111111111, \"#46039f\"], [0.2222222222222222, \"#7201a8\"], [0.3333333333333333, \"#9c179e\"], [0.4444444444444444, \"#bd3786\"], [0.5555555555555556, \"#d8576b\"], [0.6666666666666666, \"#ed7953\"], [0.7777777777777778, \"#fb9f3a\"], [0.8888888888888888, \"#fdca26\"], [1.0, \"#f0f921\"]], \"type\": \"heatmap\"}], \"heatmapgl\": [{\"colorbar\": {\"outlinewidth\": 0, \"ticks\": \"\"}, \"colorscale\": [[0.0, \"#0d0887\"], [0.1111111111111111, \"#46039f\"], [0.2222222222222222, \"#7201a8\"], [0.3333333333333333, \"#9c179e\"], [0.4444444444444444, \"#bd3786\"], [0.5555555555555556, \"#d8576b\"], [0.6666666666666666, \"#ed7953\"], [0.7777777777777778, \"#fb9f3a\"], [0.8888888888888888, \"#fdca26\"], [1.0, \"#f0f921\"]], \"type\": \"heatmapgl\"}], \"histogram\": [{\"marker\": {\"colorbar\": {\"outlinewidth\": 0, \"ticks\": \"\"}}, \"type\": \"histogram\"}], \"histogram2d\": [{\"colorbar\": {\"outlinewidth\": 0, \"ticks\": \"\"}, \"colorscale\": [[0.0, \"#0d0887\"], [0.1111111111111111, \"#46039f\"], [0.2222222222222222, \"#7201a8\"], [0.3333333333333333, \"#9c179e\"], [0.4444444444444444, \"#bd3786\"], [0.5555555555555556, \"#d8576b\"], [0.6666666666666666, \"#ed7953\"], [0.7777777777777778, \"#fb9f3a\"], [0.8888888888888888, \"#fdca26\"], [1.0, \"#f0f921\"]], \"type\": \"histogram2d\"}], \"histogram2dcontour\": [{\"colorbar\": {\"outlinewidth\": 0, \"ticks\": \"\"}, \"colorscale\": [[0.0, \"#0d0887\"], [0.1111111111111111, \"#46039f\"], [0.2222222222222222, \"#7201a8\"], [0.3333333333333333, \"#9c179e\"], [0.4444444444444444, \"#bd3786\"], [0.5555555555555556, \"#d8576b\"], [0.6666666666666666, \"#ed7953\"], [0.7777777777777778, \"#fb9f3a\"], [0.8888888888888888, \"#fdca26\"], [1.0, \"#f0f921\"]], \"type\": \"histogram2dcontour\"}], \"mesh3d\": [{\"colorbar\": {\"outlinewidth\": 0, \"ticks\": \"\"}, \"type\": \"mesh3d\"}], \"parcoords\": [{\"line\": {\"colorbar\": {\"outlinewidth\": 0, \"ticks\": \"\"}}, \"type\": \"parcoords\"}], \"pie\": [{\"automargin\": true, \"type\": \"pie\"}], \"scatter\": [{\"marker\": {\"colorbar\": {\"outlinewidth\": 0, \"ticks\": \"\"}}, \"type\": \"scatter\"}], \"scatter3d\": [{\"line\": {\"colorbar\": {\"outlinewidth\": 0, \"ticks\": \"\"}}, \"marker\": {\"colorbar\": {\"outlinewidth\": 0, \"ticks\": \"\"}}, \"type\": \"scatter3d\"}], \"scattercarpet\": [{\"marker\": {\"colorbar\": {\"outlinewidth\": 0, \"ticks\": \"\"}}, \"type\": \"scattercarpet\"}], \"scattergeo\": [{\"marker\": {\"colorbar\": {\"outlinewidth\": 0, \"ticks\": \"\"}}, \"type\": \"scattergeo\"}], \"scattergl\": [{\"marker\": {\"colorbar\": {\"outlinewidth\": 0, \"ticks\": \"\"}}, \"type\": \"scattergl\"}], \"scattermapbox\": [{\"marker\": {\"colorbar\": {\"outlinewidth\": 0, \"ticks\": \"\"}}, \"type\": \"scattermapbox\"}], \"scatterpolar\": [{\"marker\": {\"colorbar\": {\"outlinewidth\": 0, \"ticks\": \"\"}}, \"type\": \"scatterpolar\"}], \"scatterpolargl\": [{\"marker\": {\"colorbar\": {\"outlinewidth\": 0, \"ticks\": \"\"}}, \"type\": \"scatterpolargl\"}], \"scatterternary\": [{\"marker\": {\"colorbar\": {\"outlinewidth\": 0, \"ticks\": \"\"}}, \"type\": \"scatterternary\"}], \"surface\": [{\"colorbar\": {\"outlinewidth\": 0, \"ticks\": \"\"}, \"colorscale\": [[0.0, \"#0d0887\"], [0.1111111111111111, \"#46039f\"], [0.2222222222222222, \"#7201a8\"], [0.3333333333333333, \"#9c179e\"], [0.4444444444444444, \"#bd3786\"], [0.5555555555555556, \"#d8576b\"], [0.6666666666666666, \"#ed7953\"], [0.7777777777777778, \"#fb9f3a\"], [0.8888888888888888, \"#fdca26\"], [1.0, \"#f0f921\"]], \"type\": \"surface\"}], \"table\": [{\"cells\": {\"fill\": {\"color\": \"#EBF0F8\"}, \"line\": {\"color\": \"white\"}}, \"header\": {\"fill\": {\"color\": \"#C8D4E3\"}, \"line\": {\"color\": \"white\"}}, \"type\": \"table\"}]}, \"layout\": {\"annotationdefaults\": {\"arrowcolor\": \"#2a3f5f\", \"arrowhead\": 0, \"arrowwidth\": 1}, \"coloraxis\": {\"colorbar\": {\"outlinewidth\": 0, \"ticks\": \"\"}}, \"colorscale\": {\"diverging\": [[0, \"#8e0152\"], [0.1, \"#c51b7d\"], [0.2, \"#de77ae\"], [0.3, \"#f1b6da\"], [0.4, \"#fde0ef\"], [0.5, \"#f7f7f7\"], [0.6, \"#e6f5d0\"], [0.7, \"#b8e186\"], [0.8, \"#7fbc41\"], [0.9, \"#4d9221\"], [1, \"#276419\"]], \"sequential\": [[0.0, \"#0d0887\"], [0.1111111111111111, \"#46039f\"], [0.2222222222222222, \"#7201a8\"], [0.3333333333333333, \"#9c179e\"], [0.4444444444444444, \"#bd3786\"], [0.5555555555555556, \"#d8576b\"], [0.6666666666666666, \"#ed7953\"], [0.7777777777777778, \"#fb9f3a\"], [0.8888888888888888, \"#fdca26\"], [1.0, \"#f0f921\"]], \"sequentialminus\": [[0.0, \"#0d0887\"], [0.1111111111111111, \"#46039f\"], [0.2222222222222222, \"#7201a8\"], [0.3333333333333333, \"#9c179e\"], [0.4444444444444444, \"#bd3786\"], [0.5555555555555556, \"#d8576b\"], [0.6666666666666666, \"#ed7953\"], [0.7777777777777778, \"#fb9f3a\"], [0.8888888888888888, \"#fdca26\"], [1.0, \"#f0f921\"]]}, \"colorway\": [\"#636efa\", \"#EF553B\", \"#00cc96\", \"#ab63fa\", \"#FFA15A\", \"#19d3f3\", \"#FF6692\", \"#B6E880\", \"#FF97FF\", \"#FECB52\"], \"font\": {\"color\": \"#2a3f5f\"}, \"geo\": {\"bgcolor\": \"white\", \"lakecolor\": \"white\", \"landcolor\": \"#E5ECF6\", \"showlakes\": true, \"showland\": true, \"subunitcolor\": \"white\"}, \"hoverlabel\": {\"align\": \"left\"}, \"hovermode\": \"closest\", \"mapbox\": {\"style\": \"light\"}, \"paper_bgcolor\": \"white\", \"plot_bgcolor\": \"#E5ECF6\", \"polar\": {\"angularaxis\": {\"gridcolor\": \"white\", \"linecolor\": \"white\", \"ticks\": \"\"}, \"bgcolor\": \"#E5ECF6\", \"radialaxis\": {\"gridcolor\": \"white\", \"linecolor\": \"white\", \"ticks\": \"\"}}, \"scene\": {\"xaxis\": {\"backgroundcolor\": \"#E5ECF6\", \"gridcolor\": \"white\", \"gridwidth\": 2, \"linecolor\": \"white\", \"showbackground\": true, \"ticks\": \"\", \"zerolinecolor\": \"white\"}, \"yaxis\": {\"backgroundcolor\": \"#E5ECF6\", \"gridcolor\": \"white\", \"gridwidth\": 2, \"linecolor\": \"white\", \"showbackground\": true, \"ticks\": \"\", \"zerolinecolor\": \"white\"}, \"zaxis\": {\"backgroundcolor\": \"#E5ECF6\", \"gridcolor\": \"white\", \"gridwidth\": 2, \"linecolor\": \"white\", \"showbackground\": true, \"ticks\": \"\", \"zerolinecolor\": \"white\"}}, \"shapedefaults\": {\"line\": {\"color\": \"#2a3f5f\"}}, \"ternary\": {\"aaxis\": {\"gridcolor\": \"white\", \"linecolor\": \"white\", \"ticks\": \"\"}, \"baxis\": {\"gridcolor\": \"white\", \"linecolor\": \"white\", \"ticks\": \"\"}, \"bgcolor\": \"#E5ECF6\", \"caxis\": {\"gridcolor\": \"white\", \"linecolor\": \"white\", \"ticks\": \"\"}}, \"title\": {\"x\": 0.05}, \"xaxis\": {\"automargin\": true, \"gridcolor\": \"white\", \"linecolor\": \"white\", \"ticks\": \"\", \"title\": {\"standoff\": 15}, \"zerolinecolor\": \"white\", \"zerolinewidth\": 2}, \"yaxis\": {\"automargin\": true, \"gridcolor\": \"white\", \"linecolor\": \"white\", \"ticks\": \"\", \"title\": {\"standoff\": 15}, \"zerolinecolor\": \"white\", \"zerolinewidth\": 2}}}, \"title\": {\"text\": \"RMSE\"}},\n",
              "                        {\"responsive\": true}\n",
              "                    ).then(function(){\n",
              "                            \n",
              "var gd = document.getElementById('4a9e3bd3-cbc8-4249-a86e-6555b167e148');\n",
              "var x = new MutationObserver(function (mutations, observer) {{\n",
              "        var display = window.getComputedStyle(gd).display;\n",
              "        if (!display || display === 'none') {{\n",
              "            console.log([gd, 'removed!']);\n",
              "            Plotly.purge(gd);\n",
              "            observer.disconnect();\n",
              "        }}\n",
              "}});\n",
              "\n",
              "// Listen for the removal of the full notebook cells\n",
              "var notebookContainer = gd.closest('#notebook-container');\n",
              "if (notebookContainer) {{\n",
              "    x.observe(notebookContainer, {childList: true});\n",
              "}}\n",
              "\n",
              "// Listen for the clearing of the current output cell\n",
              "var outputEl = gd.closest('.output');\n",
              "if (outputEl) {{\n",
              "    x.observe(outputEl, {childList: true});\n",
              "}}\n",
              "\n",
              "                        })\n",
              "                };\n",
              "                \n",
              "            </script>\n",
              "        </div>\n",
              "</body>\n",
              "</html>"
            ]
          },
          "metadata": {
            "tags": []
          }
        }
      ]
    },
    {
      "cell_type": "code",
      "metadata": {
        "id": "5J1ZuB5duYeJ"
      },
      "source": [
        "\\"
      ],
      "execution_count": null,
      "outputs": []
    }
  ]
}